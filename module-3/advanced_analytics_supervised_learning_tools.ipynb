{
 "cells": [
  {
   "cell_type": "markdown",
   "id": "e96e8a12",
   "metadata": {},
   "source": [
    "# ML Workflow - Supervised Learning (Extra Tools)\n",
    "\n",
    "![Image](./img/scikit_learn.png)\n"
   ]
  },
  {
   "cell_type": "code",
   "execution_count": null,
   "id": "c59c4c50",
   "metadata": {},
   "outputs": [],
   "source": [
    "# imports \n",
    "\n",
    "import numpy as np\n",
    "import pandas as pd\n",
    "import matplotlib.pyplot as plt\n",
    "\n",
    "from sklearn import datasets\n",
    "from sklearn.datasets import make_regression\n",
    "from sklearn.model_selection import train_test_split\n",
    "\n",
    "from sklearn.ensemble import RandomForestRegressor\n",
    "from sklearn.ensemble import GradientBoostingRegressor\n",
    "\n",
    "from sklearn.model_selection import cross_val_score\n",
    "from sklearn.metrics import mean_squared_error\n",
    "from sklearn.model_selection import RandomizedSearchCV"
   ]
  },
  {
   "cell_type": "markdown",
   "id": "9784c013",
   "metadata": {},
   "source": [
    "## [Ensemble methods](https://scikit-learn.org/stable/modules/classes.html#module-sklearn.ensemble)\n",
    "\n",
    "__Averaging methods:__ the driving principle is to build several estimators independently and then to average their predictions.\n",
    "\n",
    "- [RandomForestRegressor()](https://scikit-learn.org/stable/modules/generated/sklearn.ensemble.RandomForestRegressor.html)\n",
    " \n",
    "\n",
    "__boosting methods:__ combine several weak models to produce a powerful ensemble.\n",
    "\n",
    "- [GradientBoostingRegressor()](https://scikit-learn.org/stable/modules/generated/sklearn.ensemble.GradientBoostingRegressor.html)\n"
   ]
  },
  {
   "cell_type": "code",
   "execution_count": null,
   "id": "498c39ed",
   "metadata": {},
   "outputs": [],
   "source": [
    "# Load datasets\n",
    "\n",
    "X, y = make_regression(n_samples=1000, n_features=10, random_state=42)\n",
    "#X, y = datasets.load_diabetes(return_X_y=True)\n",
    "print(X.shape, y.shape)"
   ]
  },
  {
   "cell_type": "code",
   "execution_count": null,
   "id": "2697cb23",
   "metadata": {},
   "outputs": [],
   "source": [
    "%%time\n",
    "\n",
    "model = RandomForestRegressor(random_state = 42)\n",
    "#model = GradientBoostingRegressor(random_state = 42)\n",
    "\n",
    "model.fit(X, y)\n",
    "y_pred = model.predict(X)\n",
    "\n",
    "hyperparameters = model.get_params()\n",
    "\n",
    "print(type(model), '\\n')\n",
    "print('Model hyperparameters:', hyperparameters, '\\n')"
   ]
  },
  {
   "cell_type": "markdown",
   "id": "5c91d428",
   "metadata": {},
   "source": [
    "---"
   ]
  },
  {
   "cell_type": "markdown",
   "id": "df27ec9d",
   "metadata": {},
   "source": [
    "## [Cross-validation](https://scikit-learn.org/stable/modules/cross_validation.html)\n",
    "\n",
    "![Image](./img/cross_validation.jpeg)"
   ]
  },
  {
   "cell_type": "code",
   "execution_count": null,
   "id": "a8baa347",
   "metadata": {},
   "outputs": [],
   "source": [
    "%%time\n",
    "\n",
    "scores = cross_val_score(model, \n",
    "                         X, \n",
    "                         y, \n",
    "                         scoring='neg_root_mean_squared_error', \n",
    "                         cv=5,\n",
    "                         n_jobs=1)\n",
    "\n",
    "print(type(model), '\\n')\n",
    "print(scores, '\\n')\n",
    "print(np.mean(-scores), '\\n')"
   ]
  },
  {
   "cell_type": "code",
   "execution_count": null,
   "id": "f7b41fb1",
   "metadata": {},
   "outputs": [],
   "source": [
    "%%time\n",
    "\n",
    "X_train, X_test, y_train, y_test = train_test_split(X, y, test_size=0.2, random_state=42)\n",
    "\n",
    "model_rmse = RandomForestRegressor(random_state = 42)\n",
    "#model_rmse = GradientBoostingRegressor(random_state = 42)\n",
    "\n",
    "model_rmse.fit(X_train, y_train)\n",
    "y_pred = model_rmse.predict(X_test)\n",
    "\n",
    "hyperparameters = model_rmse.get_params()\n",
    "\n",
    "rmse = mean_squared_error(y_test, y_pred)**0.5\n",
    "\n",
    "print(type(model_rmse), '\\n')\n",
    "print(rmse, '\\n')"
   ]
  },
  {
   "cell_type": "markdown",
   "id": "a312ea39",
   "metadata": {},
   "source": [
    "---"
   ]
  },
  {
   "cell_type": "markdown",
   "id": "b4adb398",
   "metadata": {},
   "source": [
    "## [GridSearchCV()](https://scikit-learn.org/stable/modules/generated/sklearn.model_selection.GridSearchCV.html)\n",
    "\n",
    "Alternatively, you may use [RandomizedSearchCV()](https://scikit-learn.org/stable/modules/generated/sklearn.model_selection.RandomizedSearchCV.html) if you have limited resources."
   ]
  },
  {
   "cell_type": "code",
   "execution_count": null,
   "id": "c2e11928",
   "metadata": {},
   "outputs": [],
   "source": [
    "param_grid = {'n_estimators': [16, 32, 64, 128, 256, 512],\n",
    "              'max_depth': [2, 4, 8, 16]}"
   ]
  },
  {
   "cell_type": "code",
   "execution_count": null,
   "id": "174960ae",
   "metadata": {},
   "outputs": [],
   "source": [
    "grid_search = RandomizedSearchCV(model, \n",
    "                                 param_grid, \n",
    "                                 cv=5, \n",
    "                                 verbose=3, \n",
    "                                 scoring='neg_root_mean_squared_error', \n",
    "                                 n_jobs=-1)"
   ]
  },
  {
   "cell_type": "code",
   "execution_count": null,
   "id": "64b2c2a1",
   "metadata": {},
   "outputs": [],
   "source": [
    "%%time\n",
    "\n",
    "grid_search.fit(X,y)\n",
    "\n",
    "print('\\n', 'Best hyperparameters: ', grid_search.best_params_, '\\n')\n",
    "print('Best score: ', -grid_search.best_score_, '\\n')"
   ]
  },
  {
   "cell_type": "markdown",
   "id": "8fbf93dc",
   "metadata": {},
   "source": [
    "---"
   ]
  }
 ],
 "metadata": {
  "kernelspec": {
   "display_name": "Python [conda env:.conda-sklearn-env]",
   "language": "python",
   "name": "conda-env-.conda-sklearn-env-py"
  },
  "language_info": {
   "codemirror_mode": {
    "name": "ipython",
    "version": 3
   },
   "file_extension": ".py",
   "mimetype": "text/x-python",
   "name": "python",
   "nbconvert_exporter": "python",
   "pygments_lexer": "ipython3",
   "version": "3.10.2"
  }
 },
 "nbformat": 4,
 "nbformat_minor": 5
}
